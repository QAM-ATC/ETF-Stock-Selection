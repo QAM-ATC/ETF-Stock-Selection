{
 "cells": [
  {
   "cell_type": "code",
   "execution_count": 1,
   "source": [
    "from pyomo.environ import *\r\n",
    "import pandas as pd\r\n",
    "import yfinance as yfin"
   ],
   "outputs": [],
   "metadata": {}
  },
  {
   "cell_type": "code",
   "execution_count": 35,
   "source": [
    "\r\n",
    "dataframe = yfin.download(tickers=['MFST', 'AAPL', 'ASML', 'TSLA'], period='1y')['Adj Close']"
   ],
   "outputs": [
    {
     "output_type": "stream",
     "name": "stdout",
     "text": [
      "[*********************100%***********************]  4 of 4 completed\n"
     ]
    }
   ],
   "metadata": {}
  },
  {
   "cell_type": "code",
   "execution_count": 49,
   "source": [
    "def optimisation_model(tickers, rolling_variance_dataframe, data_row, turnover_at_time_t, current_weights\r\n",
    "                       ):\r\n",
    "    \r\n",
    "    M = ConcreteModel()\r\n",
    "    M.weights = Var(tickers, within=NonNegativeReals, bounds=(0,1), initialize=0)   \r\n",
    "     \r\n",
    "    M.Objective = Objective(\r\n",
    "        expr=sum(data_row[s]*M.weights[s] for s in tickers),\r\n",
    "        sense=-1\r\n",
    "    )\r\n",
    "        \r\n",
    "    @M.Constraint()\r\n",
    "    def portfolio_sum_to_one(M):\r\n",
    "        return(sum(M.weights[s] for s in tickers)==1)\r\n",
    "    \r\n",
    "    @M.Constraint(tickers)\r\n",
    "    def proper_weights(M, ticker):\r\n",
    "        return(0, M.weights[ticker], 1)\r\n",
    "    \r\n",
    "    @M.Constraint()\r\n",
    "    def turnover_constraint(M):\r\n",
    "        return(-turnover_at_time_t, sum((M.weights[s] - current_weights[s]) for s in tickers), +turnover_at_time_t)\r\n",
    "    \r\n",
    "    # \r\n",
    "    # @M.Constraint(S)\r\n",
    "    # def active_security_bet(M, s):\r\n",
    "    #     return(-L_security, M.w[s] - benchmark_weights[s], L_security)\r\n",
    "    \r\n",
    "    return M"
   ],
   "outputs": [],
   "metadata": {}
  },
  {
   "cell_type": "code",
   "execution_count": 51,
   "source": [
    "# from more_itertools import windowed\r\n",
    "import numpy as np\r\n",
    "from tqdm.notebook import tqdm\r\n",
    "\r\n",
    "opt = SolverFactory('glpk')\r\n",
    "\r\n",
    "ROLLING_SIZE = 45\r\n",
    "tickers = dataframe.columns.tolist()\r\n",
    "\r\n",
    "rolling_variance_dataframe = dataframe.iloc[:ROLLING_SIZE, :].cov()\r\n",
    "portfolio_weights = pd.DataFrame(columns=tickers, index=dataframe.index[ROLLING_SIZE:])\r\n",
    "\r\n",
    "turnover_series = pd.Series(index=dataframe.index[ROLLING_SIZE:], dtype=float)\r\n",
    "turnover_series.iloc[0] = 1\r\n",
    "turnover_series.iloc[1:] = 0.1\r\n",
    "\r\n",
    "current_weights = dict(zip(tickers, [0]*len(tickers)))\r\n",
    "\r\n",
    "for t in tqdm(range(len(dataframe.iloc[ROLLING_SIZE:, :]))):\r\n",
    "    \r\n",
    "    state = True\r\n",
    "    # print(f'{t}', end='')\r\n",
    "\r\n",
    "    data_row = dataframe.iloc[t, :]\r\n",
    "    turnover_at_time_t = turnover_series.iloc[t]\r\n",
    "\r\n",
    "    while state:\r\n",
    "        M = optimisation_model(tickers,\r\n",
    "                               rolling_variance_dataframe,\r\n",
    "                               data_row,\r\n",
    "                               turnover_at_time_t,\r\n",
    "                               current_weights\r\n",
    "            #inputs to put into model\r\n",
    "                            )\r\n",
    "        opt_results = opt.solve(M, tee=False)\r\n",
    "\r\n",
    "        if (opt_results.solver.status == SolverStatus.ok) and (opt_results.solver.termination_condition == TerminationCondition.optimal):\r\n",
    "            pass\r\n",
    "        else:\r\n",
    "            print(f'WARNING: Unable to find solution')\r\n",
    "            # Have to change some of the inputs we provide to the model here so that it converges, if we change nothing then it will be an infinite loop\r\n",
    "            turnover_at_time_t += 0.05\r\n",
    "            continue\r\n",
    "\r\n",
    "        state = False\r\n",
    "    \r\n",
    "    rolling_variance_dataframe = dataframe[t: ROLLING_SIZE + t].cov()\r\n",
    "    df_weight_output_at_t = pd.DataFrame.from_dict(M.weights.extract_values(), orient='index', columns=[str(M.weights)])  \r\n",
    "\r\n",
    "    # if np.allclose(df_weight_output_at_t.min(axis=1), 0.0):\r\n",
    "    #     df_weight_output_at_t[df_weight_output_at_t<0] = 0\r\n",
    "    \r\n",
    "    portfolio_weights.iloc[t, :] = df_weight_output_at_t['weights'].values\r\n",
    "    current_weights = portfolio_weights.iloc[t, :].to_dict()\r\n",
    "    \r\n"
   ],
   "outputs": [
    {
     "output_type": "display_data",
     "data": {
      "text/plain": [
       "  0%|          | 0/207 [00:00<?, ?it/s]"
      ],
      "application/vnd.jupyter.widget-view+json": {
       "version_major": 2,
       "version_minor": 0,
       "model_id": "0ec16a044ebe401aa4e00244dd604da8"
      }
     },
     "metadata": {}
    },
    {
     "output_type": "stream",
     "name": "stdout",
     "text": [
      "WARNING: Could not locate the 'ipopt' executable, which is required for solver\n",
      "    ipopt\n"
     ]
    },
    {
     "output_type": "error",
     "ename": "ApplicationError",
     "evalue": "No executable found for solver 'ipopt'",
     "traceback": [
      "\u001b[1;31m---------------------------------------------------------------------------\u001b[0m",
      "\u001b[1;31mApplicationError\u001b[0m                          Traceback (most recent call last)",
      "\u001b[1;32m<ipython-input-51-a4146208bac3>\u001b[0m in \u001b[0;36m<module>\u001b[1;34m\u001b[0m\n\u001b[0;32m     33\u001b[0m             \u001b[1;31m#inputs to put into model\u001b[0m\u001b[1;33m\u001b[0m\u001b[1;33m\u001b[0m\u001b[1;33m\u001b[0m\u001b[0m\n\u001b[0;32m     34\u001b[0m                             )\n\u001b[1;32m---> 35\u001b[1;33m         \u001b[0mopt_results\u001b[0m \u001b[1;33m=\u001b[0m \u001b[0mopt\u001b[0m\u001b[1;33m.\u001b[0m\u001b[0msolve\u001b[0m\u001b[1;33m(\u001b[0m\u001b[0mM\u001b[0m\u001b[1;33m,\u001b[0m \u001b[0mtee\u001b[0m\u001b[1;33m=\u001b[0m\u001b[1;32mFalse\u001b[0m\u001b[1;33m)\u001b[0m\u001b[1;33m\u001b[0m\u001b[1;33m\u001b[0m\u001b[0m\n\u001b[0m\u001b[0;32m     36\u001b[0m \u001b[1;33m\u001b[0m\u001b[0m\n\u001b[0;32m     37\u001b[0m         \u001b[1;32mif\u001b[0m \u001b[1;33m(\u001b[0m\u001b[0mopt_results\u001b[0m\u001b[1;33m.\u001b[0m\u001b[0msolver\u001b[0m\u001b[1;33m.\u001b[0m\u001b[0mstatus\u001b[0m \u001b[1;33m==\u001b[0m \u001b[0mSolverStatus\u001b[0m\u001b[1;33m.\u001b[0m\u001b[0mok\u001b[0m\u001b[1;33m)\u001b[0m \u001b[1;32mand\u001b[0m \u001b[1;33m(\u001b[0m\u001b[0mopt_results\u001b[0m\u001b[1;33m.\u001b[0m\u001b[0msolver\u001b[0m\u001b[1;33m.\u001b[0m\u001b[0mtermination_condition\u001b[0m \u001b[1;33m==\u001b[0m \u001b[0mTerminationCondition\u001b[0m\u001b[1;33m.\u001b[0m\u001b[0moptimal\u001b[0m\u001b[1;33m)\u001b[0m\u001b[1;33m:\u001b[0m\u001b[1;33m\u001b[0m\u001b[1;33m\u001b[0m\u001b[0m\n",
      "\u001b[1;32mC:\\Users\\Public\\anaconda3\\lib\\site-packages\\pyomo\\opt\\base\\solvers.py\u001b[0m in \u001b[0;36msolve\u001b[1;34m(self, *args, **kwds)\u001b[0m\n\u001b[0;32m    510\u001b[0m         \u001b[1;34m\"\"\" Solve the problem \"\"\"\u001b[0m\u001b[1;33m\u001b[0m\u001b[1;33m\u001b[0m\u001b[0m\n\u001b[0;32m    511\u001b[0m \u001b[1;33m\u001b[0m\u001b[0m\n\u001b[1;32m--> 512\u001b[1;33m         \u001b[0mself\u001b[0m\u001b[1;33m.\u001b[0m\u001b[0mavailable\u001b[0m\u001b[1;33m(\u001b[0m\u001b[0mexception_flag\u001b[0m\u001b[1;33m=\u001b[0m\u001b[1;32mTrue\u001b[0m\u001b[1;33m)\u001b[0m\u001b[1;33m\u001b[0m\u001b[1;33m\u001b[0m\u001b[0m\n\u001b[0m\u001b[0;32m    513\u001b[0m         \u001b[1;31m#\u001b[0m\u001b[1;33m\u001b[0m\u001b[1;33m\u001b[0m\u001b[1;33m\u001b[0m\u001b[0m\n\u001b[0;32m    514\u001b[0m         \u001b[1;31m# If the inputs are models, then validate that they have been\u001b[0m\u001b[1;33m\u001b[0m\u001b[1;33m\u001b[0m\u001b[1;33m\u001b[0m\u001b[0m\n",
      "\u001b[1;32mC:\\Users\\Public\\anaconda3\\lib\\site-packages\\pyomo\\opt\\solver\\shellcmd.py\u001b[0m in \u001b[0;36mavailable\u001b[1;34m(self, exception_flag)\u001b[0m\n\u001b[0;32m    123\u001b[0m             \u001b[1;32mif\u001b[0m \u001b[0mexception_flag\u001b[0m\u001b[1;33m:\u001b[0m\u001b[1;33m\u001b[0m\u001b[1;33m\u001b[0m\u001b[0m\n\u001b[0;32m    124\u001b[0m                 \u001b[0mmsg\u001b[0m \u001b[1;33m=\u001b[0m \u001b[1;34m\"No executable found for solver '%s'\"\u001b[0m\u001b[1;33m\u001b[0m\u001b[1;33m\u001b[0m\u001b[0m\n\u001b[1;32m--> 125\u001b[1;33m                 \u001b[1;32mraise\u001b[0m \u001b[0mApplicationError\u001b[0m\u001b[1;33m(\u001b[0m\u001b[0mmsg\u001b[0m \u001b[1;33m%\u001b[0m \u001b[0mself\u001b[0m\u001b[1;33m.\u001b[0m\u001b[0mname\u001b[0m\u001b[1;33m)\u001b[0m\u001b[1;33m\u001b[0m\u001b[1;33m\u001b[0m\u001b[0m\n\u001b[0m\u001b[0;32m    126\u001b[0m             \u001b[1;32mreturn\u001b[0m \u001b[1;32mFalse\u001b[0m\u001b[1;33m\u001b[0m\u001b[1;33m\u001b[0m\u001b[0m\n\u001b[0;32m    127\u001b[0m         \u001b[1;32mreturn\u001b[0m \u001b[1;32mTrue\u001b[0m\u001b[1;33m\u001b[0m\u001b[1;33m\u001b[0m\u001b[0m\n",
      "\u001b[1;31mApplicationError\u001b[0m: No executable found for solver 'ipopt'"
     ]
    }
   ],
   "metadata": {}
  },
  {
   "cell_type": "code",
   "execution_count": 45,
   "source": [
    "portfolio_weights"
   ],
   "outputs": [
    {
     "output_type": "execute_result",
     "data": {
      "text/plain": [
       "           AAPL ASML MFST TSLA\n",
       "Date                          \n",
       "2020-11-30  0.0  0.0  0.0  1.0\n",
       "2020-12-01  0.0  0.0  0.0  1.0\n",
       "2020-12-02  0.0  0.0  0.0  1.0\n",
       "2020-12-03  0.0  0.0  0.0  1.0\n",
       "2020-12-04  0.0  0.0  0.0  1.0\n",
       "...         ...  ...  ...  ...\n",
       "2021-09-20  0.0  1.0  0.0  0.0\n",
       "2021-09-21  0.0  1.0  0.0  0.0\n",
       "2021-09-22  0.0  1.0  0.0  0.0\n",
       "2021-09-23  0.0  1.0  0.0  0.0\n",
       "2021-09-24  0.0  1.0  0.0  0.0\n",
       "\n",
       "[207 rows x 4 columns]"
      ],
      "text/html": [
       "<div>\n",
       "<style scoped>\n",
       "    .dataframe tbody tr th:only-of-type {\n",
       "        vertical-align: middle;\n",
       "    }\n",
       "\n",
       "    .dataframe tbody tr th {\n",
       "        vertical-align: top;\n",
       "    }\n",
       "\n",
       "    .dataframe thead th {\n",
       "        text-align: right;\n",
       "    }\n",
       "</style>\n",
       "<table border=\"1\" class=\"dataframe\">\n",
       "  <thead>\n",
       "    <tr style=\"text-align: right;\">\n",
       "      <th></th>\n",
       "      <th>AAPL</th>\n",
       "      <th>ASML</th>\n",
       "      <th>MFST</th>\n",
       "      <th>TSLA</th>\n",
       "    </tr>\n",
       "    <tr>\n",
       "      <th>Date</th>\n",
       "      <th></th>\n",
       "      <th></th>\n",
       "      <th></th>\n",
       "      <th></th>\n",
       "    </tr>\n",
       "  </thead>\n",
       "  <tbody>\n",
       "    <tr>\n",
       "      <th>2020-11-30</th>\n",
       "      <td>0.0</td>\n",
       "      <td>0.0</td>\n",
       "      <td>0.0</td>\n",
       "      <td>1.0</td>\n",
       "    </tr>\n",
       "    <tr>\n",
       "      <th>2020-12-01</th>\n",
       "      <td>0.0</td>\n",
       "      <td>0.0</td>\n",
       "      <td>0.0</td>\n",
       "      <td>1.0</td>\n",
       "    </tr>\n",
       "    <tr>\n",
       "      <th>2020-12-02</th>\n",
       "      <td>0.0</td>\n",
       "      <td>0.0</td>\n",
       "      <td>0.0</td>\n",
       "      <td>1.0</td>\n",
       "    </tr>\n",
       "    <tr>\n",
       "      <th>2020-12-03</th>\n",
       "      <td>0.0</td>\n",
       "      <td>0.0</td>\n",
       "      <td>0.0</td>\n",
       "      <td>1.0</td>\n",
       "    </tr>\n",
       "    <tr>\n",
       "      <th>2020-12-04</th>\n",
       "      <td>0.0</td>\n",
       "      <td>0.0</td>\n",
       "      <td>0.0</td>\n",
       "      <td>1.0</td>\n",
       "    </tr>\n",
       "    <tr>\n",
       "      <th>...</th>\n",
       "      <td>...</td>\n",
       "      <td>...</td>\n",
       "      <td>...</td>\n",
       "      <td>...</td>\n",
       "    </tr>\n",
       "    <tr>\n",
       "      <th>2021-09-20</th>\n",
       "      <td>0.0</td>\n",
       "      <td>1.0</td>\n",
       "      <td>0.0</td>\n",
       "      <td>0.0</td>\n",
       "    </tr>\n",
       "    <tr>\n",
       "      <th>2021-09-21</th>\n",
       "      <td>0.0</td>\n",
       "      <td>1.0</td>\n",
       "      <td>0.0</td>\n",
       "      <td>0.0</td>\n",
       "    </tr>\n",
       "    <tr>\n",
       "      <th>2021-09-22</th>\n",
       "      <td>0.0</td>\n",
       "      <td>1.0</td>\n",
       "      <td>0.0</td>\n",
       "      <td>0.0</td>\n",
       "    </tr>\n",
       "    <tr>\n",
       "      <th>2021-09-23</th>\n",
       "      <td>0.0</td>\n",
       "      <td>1.0</td>\n",
       "      <td>0.0</td>\n",
       "      <td>0.0</td>\n",
       "    </tr>\n",
       "    <tr>\n",
       "      <th>2021-09-24</th>\n",
       "      <td>0.0</td>\n",
       "      <td>1.0</td>\n",
       "      <td>0.0</td>\n",
       "      <td>0.0</td>\n",
       "    </tr>\n",
       "  </tbody>\n",
       "</table>\n",
       "<p>207 rows × 4 columns</p>\n",
       "</div>"
      ]
     },
     "metadata": {},
     "execution_count": 45
    }
   ],
   "metadata": {}
  },
  {
   "cell_type": "code",
   "execution_count": 46,
   "source": [
    "turnover_series"
   ],
   "outputs": [
    {
     "output_type": "execute_result",
     "data": {
      "text/plain": [
       "Date\n",
       "2020-11-30    1.0\n",
       "2020-12-01    0.1\n",
       "2020-12-02    0.1\n",
       "2020-12-03    0.1\n",
       "2020-12-04    0.1\n",
       "             ... \n",
       "2021-09-20    0.1\n",
       "2021-09-21    0.1\n",
       "2021-09-22    0.1\n",
       "2021-09-23    0.1\n",
       "2021-09-24    0.1\n",
       "Length: 207, dtype: float64"
      ]
     },
     "metadata": {},
     "execution_count": 46
    }
   ],
   "metadata": {}
  },
  {
   "cell_type": "code",
   "execution_count": null,
   "source": [],
   "outputs": [],
   "metadata": {}
  }
 ],
 "metadata": {
  "orig_nbformat": 4,
  "language_info": {
   "name": "python",
   "version": "3.7.10",
   "mimetype": "text/x-python",
   "codemirror_mode": {
    "name": "ipython",
    "version": 3
   },
   "pygments_lexer": "ipython3",
   "nbconvert_exporter": "python",
   "file_extension": ".py"
  },
  "kernelspec": {
   "name": "python3",
   "display_name": "Python 3.7.10 64-bit (conda)"
  },
  "interpreter": {
   "hash": "009c6260f8c949f949e8d5c80e91b7d11da42068722b763148e110eb4d6efd9c"
  }
 },
 "nbformat": 4,
 "nbformat_minor": 2
}